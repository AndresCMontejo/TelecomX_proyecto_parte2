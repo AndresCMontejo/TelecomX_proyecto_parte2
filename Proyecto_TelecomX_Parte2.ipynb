{
  "nbformat": 4,
  "nbformat_minor": 0,
  "metadata": {
    "colab": {
      "provenance": [],
      "mount_file_id": "https://github.com/AndresCMontejo/TelecomX_proyecto_parte2/blob/main/Proyecto_TelecomX_Parte2.ipynb",
      "authorship_tag": "ABX9TyOB9Ob3IlNi3jz/+xEUOw8L",
      "include_colab_link": true
    },
    "kernelspec": {
      "name": "python3",
      "display_name": "Python 3"
    },
    "language_info": {
      "name": "python"
    }
  },
  "cells": [
    {
      "cell_type": "markdown",
      "metadata": {
        "id": "view-in-github",
        "colab_type": "text"
      },
      "source": [
        "<a href=\"https://colab.research.google.com/github/AndresCMontejo/TelecomX_proyecto_parte2/blob/main/Proyecto_TelecomX_Parte2.ipynb\" target=\"_parent\"><img src=\"https://colab.research.google.com/assets/colab-badge.svg\" alt=\"Open In Colab\"/></a>"
      ]
    },
    {
      "cell_type": "markdown",
      "source": [
        "## **PREDICCIÓN DE CANCELACIÓN**"
      ],
      "metadata": {
        "id": "qrzBBlkSqHy5"
      }
    },
    {
      "cell_type": "markdown",
      "source": [
        "### **Misión**"
      ],
      "metadata": {
        "id": "BUIg8lWjqL1v"
      }
    },
    {
      "cell_type": "markdown",
      "source": [
        " Desarrollar modelos predictivos capaces de prever qué clientes tienen mayor probabilidad de cancelar sus servicios."
      ],
      "metadata": {
        "id": "EEmrHHsOqWRu"
      }
    },
    {
      "cell_type": "markdown",
      "source": [
        "### **Objetivo del desafío**\n",
        "1.- Preparar los datos para el modelado (tratamiento, codificación, normalización).\n",
        "\n",
        "2.- Realizar análisis de correlación y selección de variables.\n",
        "\n",
        "3.- Entrenar dos o más modelos de clasificación.\n",
        "\n",
        "4.- Evaluar el rendimiento de los modelos con métricas.\n",
        "\n",
        "5.- Interpretar los resultados, incluyendo la importancia de las variables.\n",
        "\n",
        "6.- Crear una conclusión estratégica señalando los principales factores que influyen en la cancelación."
      ],
      "metadata": {
        "id": "gVr-ySUEqYyb"
      }
    },
    {
      "cell_type": "markdown",
      "source": [
        "### **Practicas**"
      ],
      "metadata": {
        "id": "O5o9FFSnqqSm"
      }
    },
    {
      "cell_type": "markdown",
      "source": [
        "✅ Preprocesamiento de datos para Machine Learning\n",
        "\n",
        "✅ Construcción y evaluación de modelos predictivos\n",
        "\n",
        "✅ Interpretación de resultados y entrega de insights\n",
        "\n",
        "✅ Comunicación técnica con enfoque estratégico"
      ],
      "metadata": {
        "id": "7ofqaGjJqsxu"
      }
    },
    {
      "cell_type": "markdown",
      "source": [
        "## **Importando libreria de Pandas**"
      ],
      "metadata": {
        "id": "UCYZQDMvrCf_"
      }
    },
    {
      "cell_type": "code",
      "execution_count": 66,
      "metadata": {
        "id": "AOFmgaozp-PO"
      },
      "outputs": [],
      "source": [
        "import pandas as pd"
      ]
    },
    {
      "cell_type": "markdown",
      "source": [
        "## **Extracción del Archivo Tratado**"
      ],
      "metadata": {
        "id": "ITTLjT4bq9yk"
      }
    },
    {
      "cell_type": "code",
      "source": [
        "df = pd.read_csv('/content/drive/MyDrive/ETL/datos_tratados_TelecomX.csv')"
      ],
      "metadata": {
        "id": "2aoL6SzBrOk2"
      },
      "execution_count": 67,
      "outputs": []
    },
    {
      "cell_type": "code",
      "source": [
        "df.head()"
      ],
      "metadata": {
        "colab": {
          "base_uri": "https://localhost:8080/",
          "height": 293
        },
        "id": "bLp1bPfWrWl9",
        "outputId": "02bcb47a-7156-4811-f74b-f8d92ef3da6a"
      },
      "execution_count": 68,
      "outputs": [
        {
          "output_type": "execute_result",
          "data": {
            "text/plain": [
              "   customerID Churn                                           customer  \\\n",
              "0  0002-ORFBO    No  {'gender': 'Female', 'SeniorCitizen': 0, 'Part...   \n",
              "1  0003-MKNFE    No  {'gender': 'Male', 'SeniorCitizen': 0, 'Partne...   \n",
              "2  0004-TLHLJ   Yes  {'gender': 'Male', 'SeniorCitizen': 0, 'Partne...   \n",
              "3  0011-IGKFF   Yes  {'gender': 'Male', 'SeniorCitizen': 1, 'Partne...   \n",
              "4  0013-EXCHZ   Yes  {'gender': 'Female', 'SeniorCitizen': 1, 'Part...   \n",
              "\n",
              "                                             phone  \\\n",
              "0   {'PhoneService': 'Yes', 'MultipleLines': 'No'}   \n",
              "1  {'PhoneService': 'Yes', 'MultipleLines': 'Yes'}   \n",
              "2   {'PhoneService': 'Yes', 'MultipleLines': 'No'}   \n",
              "3   {'PhoneService': 'Yes', 'MultipleLines': 'No'}   \n",
              "4   {'PhoneService': 'Yes', 'MultipleLines': 'No'}   \n",
              "\n",
              "                                            internet  \\\n",
              "0  {'InternetService': 'DSL', 'OnlineSecurity': '...   \n",
              "1  {'InternetService': 'DSL', 'OnlineSecurity': '...   \n",
              "2  {'InternetService': 'Fiber optic', 'OnlineSecu...   \n",
              "3  {'InternetService': 'Fiber optic', 'OnlineSecu...   \n",
              "4  {'InternetService': 'Fiber optic', 'OnlineSecu...   \n",
              "\n",
              "                                             account  \n",
              "0  {'Contract': 'One year', 'PaperlessBilling': '...  \n",
              "1  {'Contract': 'Month-to-month', 'PaperlessBilli...  \n",
              "2  {'Contract': 'Month-to-month', 'PaperlessBilli...  \n",
              "3  {'Contract': 'Month-to-month', 'PaperlessBilli...  \n",
              "4  {'Contract': 'Month-to-month', 'PaperlessBilli...  "
            ],
            "text/html": [
              "\n",
              "  <div id=\"df-3fcc3ac2-f7eb-4d63-b315-c841d4175b41\" class=\"colab-df-container\">\n",
              "    <div>\n",
              "<style scoped>\n",
              "    .dataframe tbody tr th:only-of-type {\n",
              "        vertical-align: middle;\n",
              "    }\n",
              "\n",
              "    .dataframe tbody tr th {\n",
              "        vertical-align: top;\n",
              "    }\n",
              "\n",
              "    .dataframe thead th {\n",
              "        text-align: right;\n",
              "    }\n",
              "</style>\n",
              "<table border=\"1\" class=\"dataframe\">\n",
              "  <thead>\n",
              "    <tr style=\"text-align: right;\">\n",
              "      <th></th>\n",
              "      <th>customerID</th>\n",
              "      <th>Churn</th>\n",
              "      <th>customer</th>\n",
              "      <th>phone</th>\n",
              "      <th>internet</th>\n",
              "      <th>account</th>\n",
              "    </tr>\n",
              "  </thead>\n",
              "  <tbody>\n",
              "    <tr>\n",
              "      <th>0</th>\n",
              "      <td>0002-ORFBO</td>\n",
              "      <td>No</td>\n",
              "      <td>{'gender': 'Female', 'SeniorCitizen': 0, 'Part...</td>\n",
              "      <td>{'PhoneService': 'Yes', 'MultipleLines': 'No'}</td>\n",
              "      <td>{'InternetService': 'DSL', 'OnlineSecurity': '...</td>\n",
              "      <td>{'Contract': 'One year', 'PaperlessBilling': '...</td>\n",
              "    </tr>\n",
              "    <tr>\n",
              "      <th>1</th>\n",
              "      <td>0003-MKNFE</td>\n",
              "      <td>No</td>\n",
              "      <td>{'gender': 'Male', 'SeniorCitizen': 0, 'Partne...</td>\n",
              "      <td>{'PhoneService': 'Yes', 'MultipleLines': 'Yes'}</td>\n",
              "      <td>{'InternetService': 'DSL', 'OnlineSecurity': '...</td>\n",
              "      <td>{'Contract': 'Month-to-month', 'PaperlessBilli...</td>\n",
              "    </tr>\n",
              "    <tr>\n",
              "      <th>2</th>\n",
              "      <td>0004-TLHLJ</td>\n",
              "      <td>Yes</td>\n",
              "      <td>{'gender': 'Male', 'SeniorCitizen': 0, 'Partne...</td>\n",
              "      <td>{'PhoneService': 'Yes', 'MultipleLines': 'No'}</td>\n",
              "      <td>{'InternetService': 'Fiber optic', 'OnlineSecu...</td>\n",
              "      <td>{'Contract': 'Month-to-month', 'PaperlessBilli...</td>\n",
              "    </tr>\n",
              "    <tr>\n",
              "      <th>3</th>\n",
              "      <td>0011-IGKFF</td>\n",
              "      <td>Yes</td>\n",
              "      <td>{'gender': 'Male', 'SeniorCitizen': 1, 'Partne...</td>\n",
              "      <td>{'PhoneService': 'Yes', 'MultipleLines': 'No'}</td>\n",
              "      <td>{'InternetService': 'Fiber optic', 'OnlineSecu...</td>\n",
              "      <td>{'Contract': 'Month-to-month', 'PaperlessBilli...</td>\n",
              "    </tr>\n",
              "    <tr>\n",
              "      <th>4</th>\n",
              "      <td>0013-EXCHZ</td>\n",
              "      <td>Yes</td>\n",
              "      <td>{'gender': 'Female', 'SeniorCitizen': 1, 'Part...</td>\n",
              "      <td>{'PhoneService': 'Yes', 'MultipleLines': 'No'}</td>\n",
              "      <td>{'InternetService': 'Fiber optic', 'OnlineSecu...</td>\n",
              "      <td>{'Contract': 'Month-to-month', 'PaperlessBilli...</td>\n",
              "    </tr>\n",
              "  </tbody>\n",
              "</table>\n",
              "</div>\n",
              "    <div class=\"colab-df-buttons\">\n",
              "\n",
              "  <div class=\"colab-df-container\">\n",
              "    <button class=\"colab-df-convert\" onclick=\"convertToInteractive('df-3fcc3ac2-f7eb-4d63-b315-c841d4175b41')\"\n",
              "            title=\"Convert this dataframe to an interactive table.\"\n",
              "            style=\"display:none;\">\n",
              "\n",
              "  <svg xmlns=\"http://www.w3.org/2000/svg\" height=\"24px\" viewBox=\"0 -960 960 960\">\n",
              "    <path d=\"M120-120v-720h720v720H120Zm60-500h600v-160H180v160Zm220 220h160v-160H400v160Zm0 220h160v-160H400v160ZM180-400h160v-160H180v160Zm440 0h160v-160H620v160ZM180-180h160v-160H180v160Zm440 0h160v-160H620v160Z\"/>\n",
              "  </svg>\n",
              "    </button>\n",
              "\n",
              "  <style>\n",
              "    .colab-df-container {\n",
              "      display:flex;\n",
              "      gap: 12px;\n",
              "    }\n",
              "\n",
              "    .colab-df-convert {\n",
              "      background-color: #E8F0FE;\n",
              "      border: none;\n",
              "      border-radius: 50%;\n",
              "      cursor: pointer;\n",
              "      display: none;\n",
              "      fill: #1967D2;\n",
              "      height: 32px;\n",
              "      padding: 0 0 0 0;\n",
              "      width: 32px;\n",
              "    }\n",
              "\n",
              "    .colab-df-convert:hover {\n",
              "      background-color: #E2EBFA;\n",
              "      box-shadow: 0px 1px 2px rgba(60, 64, 67, 0.3), 0px 1px 3px 1px rgba(60, 64, 67, 0.15);\n",
              "      fill: #174EA6;\n",
              "    }\n",
              "\n",
              "    .colab-df-buttons div {\n",
              "      margin-bottom: 4px;\n",
              "    }\n",
              "\n",
              "    [theme=dark] .colab-df-convert {\n",
              "      background-color: #3B4455;\n",
              "      fill: #D2E3FC;\n",
              "    }\n",
              "\n",
              "    [theme=dark] .colab-df-convert:hover {\n",
              "      background-color: #434B5C;\n",
              "      box-shadow: 0px 1px 3px 1px rgba(0, 0, 0, 0.15);\n",
              "      filter: drop-shadow(0px 1px 2px rgba(0, 0, 0, 0.3));\n",
              "      fill: #FFFFFF;\n",
              "    }\n",
              "  </style>\n",
              "\n",
              "    <script>\n",
              "      const buttonEl =\n",
              "        document.querySelector('#df-3fcc3ac2-f7eb-4d63-b315-c841d4175b41 button.colab-df-convert');\n",
              "      buttonEl.style.display =\n",
              "        google.colab.kernel.accessAllowed ? 'block' : 'none';\n",
              "\n",
              "      async function convertToInteractive(key) {\n",
              "        const element = document.querySelector('#df-3fcc3ac2-f7eb-4d63-b315-c841d4175b41');\n",
              "        const dataTable =\n",
              "          await google.colab.kernel.invokeFunction('convertToInteractive',\n",
              "                                                    [key], {});\n",
              "        if (!dataTable) return;\n",
              "\n",
              "        const docLinkHtml = 'Like what you see? Visit the ' +\n",
              "          '<a target=\"_blank\" href=https://colab.research.google.com/notebooks/data_table.ipynb>data table notebook</a>'\n",
              "          + ' to learn more about interactive tables.';\n",
              "        element.innerHTML = '';\n",
              "        dataTable['output_type'] = 'display_data';\n",
              "        await google.colab.output.renderOutput(dataTable, element);\n",
              "        const docLink = document.createElement('div');\n",
              "        docLink.innerHTML = docLinkHtml;\n",
              "        element.appendChild(docLink);\n",
              "      }\n",
              "    </script>\n",
              "  </div>\n",
              "\n",
              "\n",
              "    <div id=\"df-d8e6d634-07dd-4703-b54a-4c324d9aab8a\">\n",
              "      <button class=\"colab-df-quickchart\" onclick=\"quickchart('df-d8e6d634-07dd-4703-b54a-4c324d9aab8a')\"\n",
              "                title=\"Suggest charts\"\n",
              "                style=\"display:none;\">\n",
              "\n",
              "<svg xmlns=\"http://www.w3.org/2000/svg\" height=\"24px\"viewBox=\"0 0 24 24\"\n",
              "     width=\"24px\">\n",
              "    <g>\n",
              "        <path d=\"M19 3H5c-1.1 0-2 .9-2 2v14c0 1.1.9 2 2 2h14c1.1 0 2-.9 2-2V5c0-1.1-.9-2-2-2zM9 17H7v-7h2v7zm4 0h-2V7h2v10zm4 0h-2v-4h2v4z\"/>\n",
              "    </g>\n",
              "</svg>\n",
              "      </button>\n",
              "\n",
              "<style>\n",
              "  .colab-df-quickchart {\n",
              "      --bg-color: #E8F0FE;\n",
              "      --fill-color: #1967D2;\n",
              "      --hover-bg-color: #E2EBFA;\n",
              "      --hover-fill-color: #174EA6;\n",
              "      --disabled-fill-color: #AAA;\n",
              "      --disabled-bg-color: #DDD;\n",
              "  }\n",
              "\n",
              "  [theme=dark] .colab-df-quickchart {\n",
              "      --bg-color: #3B4455;\n",
              "      --fill-color: #D2E3FC;\n",
              "      --hover-bg-color: #434B5C;\n",
              "      --hover-fill-color: #FFFFFF;\n",
              "      --disabled-bg-color: #3B4455;\n",
              "      --disabled-fill-color: #666;\n",
              "  }\n",
              "\n",
              "  .colab-df-quickchart {\n",
              "    background-color: var(--bg-color);\n",
              "    border: none;\n",
              "    border-radius: 50%;\n",
              "    cursor: pointer;\n",
              "    display: none;\n",
              "    fill: var(--fill-color);\n",
              "    height: 32px;\n",
              "    padding: 0;\n",
              "    width: 32px;\n",
              "  }\n",
              "\n",
              "  .colab-df-quickchart:hover {\n",
              "    background-color: var(--hover-bg-color);\n",
              "    box-shadow: 0 1px 2px rgba(60, 64, 67, 0.3), 0 1px 3px 1px rgba(60, 64, 67, 0.15);\n",
              "    fill: var(--button-hover-fill-color);\n",
              "  }\n",
              "\n",
              "  .colab-df-quickchart-complete:disabled,\n",
              "  .colab-df-quickchart-complete:disabled:hover {\n",
              "    background-color: var(--disabled-bg-color);\n",
              "    fill: var(--disabled-fill-color);\n",
              "    box-shadow: none;\n",
              "  }\n",
              "\n",
              "  .colab-df-spinner {\n",
              "    border: 2px solid var(--fill-color);\n",
              "    border-color: transparent;\n",
              "    border-bottom-color: var(--fill-color);\n",
              "    animation:\n",
              "      spin 1s steps(1) infinite;\n",
              "  }\n",
              "\n",
              "  @keyframes spin {\n",
              "    0% {\n",
              "      border-color: transparent;\n",
              "      border-bottom-color: var(--fill-color);\n",
              "      border-left-color: var(--fill-color);\n",
              "    }\n",
              "    20% {\n",
              "      border-color: transparent;\n",
              "      border-left-color: var(--fill-color);\n",
              "      border-top-color: var(--fill-color);\n",
              "    }\n",
              "    30% {\n",
              "      border-color: transparent;\n",
              "      border-left-color: var(--fill-color);\n",
              "      border-top-color: var(--fill-color);\n",
              "      border-right-color: var(--fill-color);\n",
              "    }\n",
              "    40% {\n",
              "      border-color: transparent;\n",
              "      border-right-color: var(--fill-color);\n",
              "      border-top-color: var(--fill-color);\n",
              "    }\n",
              "    60% {\n",
              "      border-color: transparent;\n",
              "      border-right-color: var(--fill-color);\n",
              "    }\n",
              "    80% {\n",
              "      border-color: transparent;\n",
              "      border-right-color: var(--fill-color);\n",
              "      border-bottom-color: var(--fill-color);\n",
              "    }\n",
              "    90% {\n",
              "      border-color: transparent;\n",
              "      border-bottom-color: var(--fill-color);\n",
              "    }\n",
              "  }\n",
              "</style>\n",
              "\n",
              "      <script>\n",
              "        async function quickchart(key) {\n",
              "          const quickchartButtonEl =\n",
              "            document.querySelector('#' + key + ' button');\n",
              "          quickchartButtonEl.disabled = true;  // To prevent multiple clicks.\n",
              "          quickchartButtonEl.classList.add('colab-df-spinner');\n",
              "          try {\n",
              "            const charts = await google.colab.kernel.invokeFunction(\n",
              "                'suggestCharts', [key], {});\n",
              "          } catch (error) {\n",
              "            console.error('Error during call to suggestCharts:', error);\n",
              "          }\n",
              "          quickchartButtonEl.classList.remove('colab-df-spinner');\n",
              "          quickchartButtonEl.classList.add('colab-df-quickchart-complete');\n",
              "        }\n",
              "        (() => {\n",
              "          let quickchartButtonEl =\n",
              "            document.querySelector('#df-d8e6d634-07dd-4703-b54a-4c324d9aab8a button');\n",
              "          quickchartButtonEl.style.display =\n",
              "            google.colab.kernel.accessAllowed ? 'block' : 'none';\n",
              "        })();\n",
              "      </script>\n",
              "    </div>\n",
              "\n",
              "    </div>\n",
              "  </div>\n"
            ],
            "application/vnd.google.colaboratory.intrinsic+json": {
              "type": "dataframe",
              "variable_name": "df",
              "summary": "{\n  \"name\": \"df\",\n  \"rows\": 7267,\n  \"fields\": [\n    {\n      \"column\": \"customerID\",\n      \"properties\": {\n        \"dtype\": \"string\",\n        \"num_unique_values\": 7267,\n        \"samples\": [\n          \"2038-OEQZH\",\n          \"6322-HRPFA\",\n          \"3969-JQABI\"\n        ],\n        \"semantic_type\": \"\",\n        \"description\": \"\"\n      }\n    },\n    {\n      \"column\": \"Churn\",\n      \"properties\": {\n        \"dtype\": \"category\",\n        \"num_unique_values\": 2,\n        \"samples\": [\n          \"Yes\",\n          \"No\"\n        ],\n        \"semantic_type\": \"\",\n        \"description\": \"\"\n      }\n    },\n    {\n      \"column\": \"customer\",\n      \"properties\": {\n        \"dtype\": \"category\",\n        \"num_unique_values\": 891,\n        \"samples\": [\n          \"{'gender': 'Male', 'SeniorCitizen': 1, 'Partner': 'No', 'Dependents': 'No', 'tenure': 68}\",\n          \"{'gender': 'Male', 'SeniorCitizen': 0, 'Partner': 'Yes', 'Dependents': 'No', 'tenure': 19}\"\n        ],\n        \"semantic_type\": \"\",\n        \"description\": \"\"\n      }\n    },\n    {\n      \"column\": \"phone\",\n      \"properties\": {\n        \"dtype\": \"category\",\n        \"num_unique_values\": 3,\n        \"samples\": [\n          \"{'PhoneService': 'Yes', 'MultipleLines': 'No'}\",\n          \"{'PhoneService': 'Yes', 'MultipleLines': 'Yes'}\"\n        ],\n        \"semantic_type\": \"\",\n        \"description\": \"\"\n      }\n    },\n    {\n      \"column\": \"internet\",\n      \"properties\": {\n        \"dtype\": \"category\",\n        \"num_unique_values\": 129,\n        \"samples\": [\n          \"{'InternetService': 'Fiber optic', 'OnlineSecurity': 'Yes', 'OnlineBackup': 'Yes', 'DeviceProtection': 'Yes', 'TechSupport': 'No', 'StreamingTV': 'No', 'StreamingMovies': 'No'}\",\n          \"{'InternetService': 'DSL', 'OnlineSecurity': 'Yes', 'OnlineBackup': 'No', 'DeviceProtection': 'No', 'TechSupport': 'Yes', 'StreamingTV': 'No', 'StreamingMovies': 'Yes'}\"\n        ],\n        \"semantic_type\": \"\",\n        \"description\": \"\"\n      }\n    },\n    {\n      \"column\": \"account\",\n      \"properties\": {\n        \"dtype\": \"string\",\n        \"num_unique_values\": 6931,\n        \"samples\": [\n          \"{'Contract': 'Month-to-month', 'PaperlessBilling': 'No', 'PaymentMethod': 'Credit card (automatic)', 'Charges': {'Monthly': 94.65, 'Total': '2649.15'}}\",\n          \"{'Contract': 'Month-to-month', 'PaperlessBilling': 'Yes', 'PaymentMethod': 'Electronic check', 'Charges': {'Monthly': 30.5, 'Total': '167.2'}}\"\n        ],\n        \"semantic_type\": \"\",\n        \"description\": \"\"\n      }\n    }\n  ]\n}"
            }
          },
          "metadata": {},
          "execution_count": 68
        }
      ]
    },
    {
      "cell_type": "markdown",
      "source": [
        "## **Eliminación de Columnas Irrelevantes**"
      ],
      "metadata": {
        "id": "TLBOH2sSre_1"
      }
    },
    {
      "cell_type": "markdown",
      "source": [
        "Eliminando las columnas que no aportan valor al análisis o a los modelos predictivos, como identificadores únicos (por ejemplo, el ID del cliente). Estas columnas no ayudan en la predicción de la cancelación y pueden incluso perjudicar el desempeño de los modelos."
      ],
      "metadata": {
        "id": "20qJoXESrg2N"
      }
    },
    {
      "cell_type": "markdown",
      "source": [
        "**Columnas a eliminar**\n",
        "Analizando el dataframe, observamos que las columnas que conviene eliminar (ID/identificadores) son las customerID, phone, account, ya que estos son identificadores o datos de contacto que no aportan señal predictiva y pueden meter ruido a nuestro analisis."
      ],
      "metadata": {
        "id": "ujmk6YLuut2-"
      }
    },
    {
      "cell_type": "code",
      "source": [
        "drop_now = [\"customerID\", \"phone\", \"account\"]\n",
        "df = df.drop(columns=drop_now, errors=\"ignore\")\n",
        "\n",
        "# Separando X y Y\n",
        "target_col = \"Churn\"\n",
        "y = df[target_col]\n",
        "X = df.drop(columns=[target_col], errors=\"ignore\")\n",
        "\n",
        "# Guardando un nuevo dataFrame con una versión mas limpia\n",
        "df.to_csv(\"datos_TelecomX_sin_IDs_constantes.csv\", index=False)"
      ],
      "metadata": {
        "id": "lSGO-OK6roV4"
      },
      "execution_count": 69,
      "outputs": []
    },
    {
      "cell_type": "markdown",
      "source": [
        "## **Encoding**"
      ],
      "metadata": {
        "id": "tcUo3hSnwGEO"
      }
    },
    {
      "cell_type": "markdown",
      "source": [
        "Transforma las variables categóricas a formato numérico para hacerlas compatibles con los algoritmos de machine learning. Utiliza un método de codificación adecuado, como one-hot encoding."
      ],
      "metadata": {
        "id": "uAxk5h7xwIsX"
      }
    },
    {
      "cell_type": "code",
      "source": [
        "# Cargando nuestro nuevo DataFrame filtrado.\n",
        "df = pd.read_csv(\"/content/drive/MyDrive/ETL/datos_TelecomX_sin_IDs_constantes.csv\")\n",
        "\n",
        "# Identificando las columnas categóricas (object o category)\n",
        "categorical_cols = df.select_dtypes(include=['object']).columns.tolist()\n",
        "\n",
        "print(\"Columnas categóricas detectadas:\", categorical_cols)\n",
        "\n",
        "# One-Hot Encoding\n",
        "df_encoded = pd.get_dummies(df, columns=categorical_cols, drop_first=True)\n",
        "\n",
        "print(\"Forma del dataset original:\", df.shape)\n",
        "print(\"Forma del dataset codificado:\", df_encoded.shape)\n",
        "\n",
        "# Guardando el nuevo dataframe transformado\n",
        "df_encoded.to_csv(\"datos_TelecomX_codificado.csv\", index=False)"
      ],
      "metadata": {
        "colab": {
          "base_uri": "https://localhost:8080/"
        },
        "id": "-PdPqD5awMwb",
        "outputId": "c6794e0f-b2ed-49a0-bccb-d8404590256e"
      },
      "execution_count": 70,
      "outputs": [
        {
          "output_type": "stream",
          "name": "stdout",
          "text": [
            "Columnas categóricas detectadas: ['Churn', 'customer', 'internet']\n",
            "Forma del dataset original: (7267, 3)\n",
            "Forma del dataset codificado: (7267, 1019)\n"
          ]
        }
      ]
    },
    {
      "cell_type": "markdown",
      "source": [
        "## **Verificación de la Proporción de Cancelación (Churn)**"
      ],
      "metadata": {
        "id": "6VyvNEHJw8k1"
      }
    },
    {
      "cell_type": "markdown",
      "source": [
        "Calcula la proporción de clientes que cancelaron en relación con los que permanecieron activos. Evalúa si existe un desbalance entre las clases, ya que esto puede impactar en los modelos predictivos y en el análisis de los resultados."
      ],
      "metadata": {
        "id": "5vpJ-YY8xIYU"
      }
    },
    {
      "cell_type": "code",
      "source": [
        "#Distribución de la variable objetivo (Churn)\n",
        "#df = pd.read_csv('/content/datos_TelecomX_codificado.csv')\n",
        "churn_counts = df['Churn'].value_counts()\n",
        "churn_proportion = df['Churn'].value_counts(normalize=True)\n",
        "\n",
        "print(\"Conteo de clases (Churn):\")\n",
        "print(churn_counts)\n",
        "print(\"\\nProporción de clases (Churn):\")\n",
        "print(churn_proportion)\n",
        "\n",
        "# Visualización rápida\n",
        "import matplotlib.pyplot as plt\n",
        "\n",
        "plt.figure(figsize=(6,4))\n",
        "churn_counts.plot(kind='bar', color=['skyblue','salmon'])\n",
        "plt.title(\"Distribución de Clientes (Churn vs No Churn)\")\n",
        "plt.xticks(rotation=0)\n",
        "plt.ylabel(\"Número de clientes\")\n",
        "plt.show()"
      ],
      "metadata": {
        "colab": {
          "base_uri": "https://localhost:8080/",
          "height": 610
        },
        "id": "9hCCUs1P4WAs",
        "outputId": "895c2d58-9101-4fac-f3e6-eea7b6594c28"
      },
      "execution_count": 71,
      "outputs": [
        {
          "output_type": "stream",
          "name": "stdout",
          "text": [
            "Conteo de clases (Churn):\n",
            "Churn\n",
            "No     5174\n",
            "Yes    1869\n",
            "Name: count, dtype: int64\n",
            "\n",
            "Proporción de clases (Churn):\n",
            "Churn\n",
            "No     0.73463\n",
            "Yes    0.26537\n",
            "Name: proportion, dtype: float64\n"
          ]
        },
        {
          "output_type": "display_data",
          "data": {
            "text/plain": [
              "<Figure size 600x400 with 1 Axes>"
            ],
            "image/png": "[encoded data removed]"
          },
          "metadata": {}
        }
      ]
    },
    {
      "cell_type": "markdown",
      "source": [
        "## **Balanceo de Clases**"
      ],
      "metadata": {
        "id": "zlo7Negxxa1w"
      }
    },
    {
      "cell_type": "markdown",
      "source": [
        "Profundizar en el análisis, aplicando técnicas de balanceo como undersampling o oversampling. En situaciones de fuerte desbalanceo, herramientas como SMOTE pueden ser útiles para generar ejemplos sintéticos de la clase minoritaria."
      ],
      "metadata": {
        "id": "HKSQvmT9xopA"
      }
    },
    {
      "cell_type": "markdown",
      "source": [
        "#### **Preparación de Datos (Extensión de tu Código)**\n",
        "Primero, asegurémonos de que los datos estén codificados y separados en X (features) e y (target):"
      ],
      "metadata": {
        "id": "iCBi7d09-wGV"
      }
    },
    {
      "cell_type": "code",
      "source": [
        "from sklearn.model_selection import train_test_split\n",
        "# Cargar datos (usando tu DataFrame ya codificado)\n",
        "df_encoded = pd.read_csv('/content/datos_TelecomX_sin_IDs_constantes.csv')\n",
        "\n",
        "# Separar X e y (asumiendo que 'Churn' es la columna objetivo)\n",
        "y = df_encoded['Churn']\n",
        "X = df_encoded.drop(columns=['Churn'])\n",
        "\n",
        "# Codificar 'Churn' como 0 y 1 (si no está ya codificado)\n",
        "y = y.map({'No': 0, 'Yes': 1})\n",
        "\n",
        "# Dividir en train y test (80% train, 20% test)\n",
        "X_train, X_test, y_train, y_test = train_test_split(X, y, test_size=0.2, random_state=42, stratify=y)\n",
        "\n",
        "print(\"Distribución original en entrenamiento:\", y_train.value_counts())\n",
        "print(\"Distribución original en prueba:\", y_test.value_counts())\n"
      ],
      "metadata": {
        "colab": {
          "base_uri": "https://localhost:8080/"
        },
        "id": "jU0zlFGA08_p",
        "outputId": "d6dcaf55-01cb-4edc-b8d9-e5b57f24ff0b"
      },
      "execution_count": 76,
      "outputs": [
        {
          "output_type": "stream",
          "name": "stdout",
          "text": [
            "Distribución original en entrenamiento: Churn_Yes\n",
            "False    4318\n",
            "True     1495\n",
            "Name: count, dtype: int64\n",
            "Distribución original en prueba: Churn_Yes\n",
            "False    1080\n",
            "True      374\n",
            "Name: count, dtype: int64\n"
          ]
        }
      ]
    },
    {
      "cell_type": "code",
      "source": [
        "from sklearn.model_selection import train_test_split\n",
        "import pandas as pd\n",
        "\n",
        "# Cargar datos usando el Dataframe codificado\n",
        "df_encoded = pd.read_csv('/content/datos_TelecomX_codificado.csv')\n",
        "\n",
        "# Separar X e y\n",
        "y = df_encoded['Churn_Yes']\n",
        "X = df_encoded.drop(columns=['Churn_Yes'])\n",
        "\n",
        "# Dividir en train y test\n",
        "X_train, X_test, y_train, y_test = train_test_split(X, y, test_size=0.2, random_state=42, stratify=y)\n",
        "\n",
        "print(\"Distribución original en entrenamiento:\", y_train.value_counts())\n",
        "print(\"Distribución original en prueba:\", y_test.value_counts())"
      ],
      "metadata": {
        "colab": {
          "base_uri": "https://localhost:8080/"
        },
        "id": "lrLqTpyH89hR",
        "outputId": "3ec3cc81-2d22-4bd7-a217-44a2ae5b40fb"
      },
      "execution_count": 77,
      "outputs": [
        {
          "output_type": "stream",
          "name": "stdout",
          "text": [
            "Distribución original en entrenamiento: Churn_Yes\n",
            "False    4318\n",
            "True     1495\n",
            "Name: count, dtype: int64\n",
            "Distribución original en prueba: Churn_Yes\n",
            "False    1080\n",
            "True      374\n",
            "Name: count, dtype: int64\n"
          ]
        }
      ]
    },
    {
      "cell_type": "markdown",
      "source": [
        "#### **Técnicas de Balanceo**\n",
        "Random Undersampling (Reducción de la clase mayoritaria)"
      ],
      "metadata": {
        "id": "7PgIsR-n-3eZ"
      }
    },
    {
      "cell_type": "code",
      "source": [
        "from imblearn.under_sampling import RandomUnderSampler\n",
        "\n",
        "# Aplicar undersampling\n",
        "undersampler = RandomUnderSampler(random_state=42)\n",
        "X_under, y_under = undersampler.fit_resample(X_train, y_train)\n",
        "\n",
        "print(\"Distribución después de undersampling:\", y_under.value_counts())"
      ],
      "metadata": {
        "colab": {
          "base_uri": "https://localhost:8080/"
        },
        "id": "cWwZqbA29M4X",
        "outputId": "c7778922-e23f-417d-fe7d-18bf5ebfec86"
      },
      "execution_count": 78,
      "outputs": [
        {
          "output_type": "stream",
          "name": "stdout",
          "text": [
            "Distribución después de undersampling: Churn_Yes\n",
            "False    1495\n",
            "True     1495\n",
            "Name: count, dtype: int64\n"
          ]
        }
      ]
    },
    {
      "cell_type": "markdown",
      "source": [
        "SMOTE (Oversampling de la clase minoritaria)"
      ],
      "metadata": {
        "id": "3M7_LNqa_LvN"
      }
    },
    {
      "cell_type": "code",
      "source": [
        "from imblearn.over_sampling import SMOTE\n",
        "from collections import Counter\n",
        "X_train_numeric = X_train.astype(int)\n",
        "# Aplicando SMOTE\n",
        "smote = SMOTE(random_state=42)\n",
        "X_over, y_over = smote.fit_resample(X_train_numeric, y_train)\n",
        "print(\"Distribución después de SMOTE:\", Counter(y_over))"
      ],
      "metadata": {
        "colab": {
          "base_uri": "https://localhost:8080/"
        },
        "id": "bk6fq8V69o2o",
        "outputId": "6431d4de-5763-4dd1-9e33-9d504958ba76"
      },
      "execution_count": 82,
      "outputs": [
        {
          "output_type": "stream",
          "name": "stdout",
          "text": [
            "Distribución después de SMOTE: Counter({False: 4318, True: 4318})\n"
          ]
        }
      ]
    },
    {
      "cell_type": "markdown",
      "source": [
        "Combinación SMOTE + Undersampling (SMOTEENN)"
      ],
      "metadata": {
        "id": "PHo4flWo_VX8"
      }
    },
    {
      "cell_type": "code",
      "source": [
        "from imblearn.combine import SMOTEENN\n",
        "X_train_numeric = X_train.astype(int)\n",
        "# Aplicar SMOTEENN (SMOTE + ENN para limpiar muestras)\n",
        "smote_enn = SMOTEENN(random_state=42)\n",
        "X_comb, y_comb = smote_enn.fit_resample(X_train_numeric, y_train)\n",
        "print(\"Distribución después de SMOTEENN:\", y_comb.value_counts())"
      ],
      "metadata": {
        "id": "r2A566AW-Lv3",
        "outputId": "cc01c7a2-7708-4e4c-dca1-9429ce963549",
        "colab": {
          "base_uri": "https://localhost:8080/"
        }
      },
      "execution_count": 86,
      "outputs": [
        {
          "output_type": "stream",
          "name": "stdout",
          "text": [
            "Distribución después de SMOTEENN: Churn_Yes\n",
            "True     3295\n",
            "False     556\n",
            "Name: count, dtype: int64\n"
          ]
        }
      ]
    },
    {
      "cell_type": "markdown",
      "source": [
        "#### **Evaluación de Modelos con Datos Balanceados**\n",
        "Ahora podemos entrenar un modelo, y comparar su rendimiento antes y después del balanceo."
      ],
      "metadata": {
        "id": "wUGVRXT4_ZJq"
      }
    },
    {
      "cell_type": "code",
      "source": [
        "from sklearn.linear_model import LogisticRegression\n",
        "from sklearn.metrics import classification_report, confusion_matrix\n",
        "\n",
        "# Modelo con datos originales (desbalanceados)\n",
        "model_original = LogisticRegression(max_iter=1000, random_state=42)\n",
        "model_original.fit(X_train, y_train)\n",
        "y_pred_original = model_original.predict(X_test)\n",
        "\n",
        "print(\"=== Rendimiento en datos originales (desbalanceados) ===\")\n",
        "print(classification_report(y_test, y_pred_original))\n",
        "print(confusion_matrix(y_test, y_pred_original))\n",
        "\n",
        "# Modelo con SMOTE (oversampling)\n",
        "model_smote = LogisticRegression(max_iter=1000, random_state=42)\n",
        "model_smote.fit(X_over, y_over)\n",
        "y_pred_smote = model_smote.predict(X_test)\n",
        "\n",
        "print(\"\\n=== Rendimiento con SMOTE (oversampling) ===\")\n",
        "print(classification_report(y_test, y_pred_smote))\n",
        "print(confusion_matrix(y_test, y_pred_smote))"
      ],
      "metadata": {
        "id": "Ua4OrmDj-ZkR",
        "outputId": "2927d5f2-3a18-4302-9f97-a0b339b25c49",
        "colab": {
          "base_uri": "https://localhost:8080/"
        }
      },
      "execution_count": 87,
      "outputs": [
        {
          "output_type": "stream",
          "name": "stdout",
          "text": [
            "=== Rendimiento en datos originales (desbalanceados) ===\n",
            "              precision    recall  f1-score   support\n",
            "\n",
            "       False       0.81      0.91      0.86      1080\n",
            "        True       0.61      0.39      0.48       374\n",
            "\n",
            "    accuracy                           0.78      1454\n",
            "   macro avg       0.71      0.65      0.67      1454\n",
            "weighted avg       0.76      0.78      0.76      1454\n",
            "\n",
            "[[987  93]\n",
            " [227 147]]\n",
            "\n",
            "=== Rendimiento con SMOTE (oversampling) ===\n",
            "              precision    recall  f1-score   support\n",
            "\n",
            "       False       0.87      0.75      0.81      1080\n",
            "        True       0.48      0.66      0.56       374\n",
            "\n",
            "    accuracy                           0.73      1454\n",
            "   macro avg       0.67      0.71      0.68      1454\n",
            "weighted avg       0.77      0.73      0.74      1454\n",
            "\n",
            "[[814 266]\n",
            " [126 248]]\n"
          ]
        }
      ]
    },
    {
      "cell_type": "markdown",
      "source": [
        "#### **Visualización de Resultados**"
      ],
      "metadata": {
        "id": "qee2dq-j_kFh"
      }
    },
    {
      "cell_type": "code",
      "source": [
        "import seaborn as sns\n",
        "# Matriz de confusión para SMOTE\n",
        "cm = confusion_matrix(y_test, y_pred_smote)\n",
        "sns.heatmap(cm, annot=True, fmt='d', cmap='Blues', xticklabels=['No Churn', 'Churn'], yticklabels=['No Churn', 'Churn'])\n",
        "plt.title(\"Matriz de Confusión (SMOTE)\")\n",
        "plt.show()"
      ],
      "metadata": {
        "id": "hmf5zPuL-l1M",
        "outputId": "7b34260b-177d-4f52-b512-c73e056c879a",
        "colab": {
          "base_uri": "https://localhost:8080/",
          "height": 452
        }
      },
      "execution_count": 88,
      "outputs": [
        {
          "output_type": "display_data",
          "data": {
            "text/plain": [
              "<Figure size 640x480 with 2 Axes>"
            ],
            "image/png": "[encoded data removed]"
          },
          "metadata": {}
        }
      ]
    },
    {
      "cell_type": "markdown",
      "source": [
        "#### **Interpretación**\n",
        "La interpretación es la siguiente\n",
        "Undersampling: Reduce la clase mayoritaria, pero al reducir, esta puede perder información útil.\n",
        "\n",
        "SMOTE: Genera muestras sintéticas de la clase minoritaria, mejorando el recall (detección de churn).\n",
        "\n",
        "SMOTEENN: Combina oversampling y limpieza de muestras ruidosas.\n",
        "\n",
        "Métrica clave:\n",
        "Foco en Recall (capacidad de detectar clientes que cancelarán).\n",
        "Compara el classification_report antes/después del balanceo."
      ],
      "metadata": {
        "id": "2rVKxKYl_9PQ"
      }
    },
    {
      "cell_type": "markdown",
      "source": [
        "## **Normalización o Estandarización (si es necesario)**"
      ],
      "metadata": {
        "id": "DEvja2PF1d7O"
      }
    },
    {
      "cell_type": "markdown",
      "source": [
        "Evalúa la necesidad de normalizar o estandarizar los datos, según los modelos que se aplicarán. Modelos basados en distancia, como KNN, SVM, Regresión Logística y Redes Neuronales, requieren este preprocesamiento. Por otro lado, modelos basados en árboles, como Decision Tree, Random Forest y XGBoost, no son sensibles a la escala de los datos."
      ],
      "metadata": {
        "id": "qcNnzaGk11YD"
      }
    },
    {
      "cell_type": "code",
      "source": [
        "from sklearn.preprocessing import StandardScaler, MinMaxScaler\n",
        "numeric_cols = X_train.select_dtypes(include=['int64', 'float64']).columns.tolist()\n",
        "print(\"Columnas numéricas a escalar:\", numeric_cols)"
      ],
      "metadata": {
        "colab": {
          "base_uri": "https://localhost:8080/"
        },
        "id": "OltFhs1m3C5E",
        "outputId": "9aaf6541-834f-48ea-e410-247e9980a75e"
      },
      "execution_count": 90,
      "outputs": [
        {
          "output_type": "stream",
          "name": "stdout",
          "text": [
            "Columnas numéricas a escalar: []\n"
          ]
        }
      ]
    },
    {
      "cell_type": "code",
      "source": [],
      "metadata": {
        "id": "xEom7jVR2mdZ"
      },
      "execution_count": null,
      "outputs": []
    }
  ]
}